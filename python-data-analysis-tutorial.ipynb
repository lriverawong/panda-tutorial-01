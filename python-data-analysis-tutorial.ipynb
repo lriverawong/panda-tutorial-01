{
 "cells": [
  {
   "cell_type": "code",
   "execution_count": 1,
   "metadata": {},
   "outputs": [
    {
     "name": "stdout",
     "output_type": "stream",
     "text": [
      "       country  gdpPercap_1952  gdpPercap_1957  gdpPercap_1962  \\\n",
      "0    Australia     10039.59564     10949.64959     12217.22686   \n",
      "1  New Zealand     10556.57566     12247.39532     13175.67800   \n",
      "\n",
      "   gdpPercap_1967  gdpPercap_1972  gdpPercap_1977  gdpPercap_1982  \\\n",
      "0     14526.12465     16788.62948     18334.19751     19477.00928   \n",
      "1     14463.91893     16046.03728     16233.71770     17632.41040   \n",
      "\n",
      "   gdpPercap_1987  gdpPercap_1992  gdpPercap_1997  gdpPercap_2002  \\\n",
      "0     21888.88903     23424.76683     26997.93657     30687.75473   \n",
      "1     19007.19129     18363.32494     21050.41377     23189.80135   \n",
      "\n",
      "   gdpPercap_2007  \n",
      "0     34435.36744  \n",
      "1     25185.00911  \n"
     ]
    }
   ],
   "source": [
    "import pandas as pd\n",
    "data = pd.read_csv('data/gapminder_gdp_oceania.csv')\n",
    "print(data)"
   ]
  },
  {
   "cell_type": "markdown",
   "metadata": {},
   "source": [
    "# Use index_col to specify that a column's values should be used as row headings"
   ]
  },
  {
   "cell_type": "code",
   "execution_count": 2,
   "metadata": {},
   "outputs": [
    {
     "name": "stdout",
     "output_type": "stream",
     "text": [
      "             gdpPercap_1952  gdpPercap_1957  gdpPercap_1962  gdpPercap_1967  \\\n",
      "country                                                                       \n",
      "Australia       10039.59564     10949.64959     12217.22686     14526.12465   \n",
      "New Zealand     10556.57566     12247.39532     13175.67800     14463.91893   \n",
      "\n",
      "             gdpPercap_1972  gdpPercap_1977  gdpPercap_1982  gdpPercap_1987  \\\n",
      "country                                                                       \n",
      "Australia       16788.62948     18334.19751     19477.00928     21888.88903   \n",
      "New Zealand     16046.03728     16233.71770     17632.41040     19007.19129   \n",
      "\n",
      "             gdpPercap_1992  gdpPercap_1997  gdpPercap_2002  gdpPercap_2007  \n",
      "country                                                                      \n",
      "Australia       23424.76683     26997.93657     30687.75473     34435.36744  \n",
      "New Zealand     18363.32494     21050.41377     23189.80135     25185.00911  \n"
     ]
    }
   ],
   "source": [
    "data = pd.read_csv('data/gapminder_gdp_oceania.csv', index_col='country')\n",
    "print(data)"
   ]
  },
  {
   "cell_type": "markdown",
   "metadata": {},
   "source": [
    "# Use Dataframe.info to find out more about a dataframe"
   ]
  },
  {
   "cell_type": "code",
   "execution_count": 3,
   "metadata": {},
   "outputs": [
    {
     "name": "stdout",
     "output_type": "stream",
     "text": [
      "<class 'pandas.core.frame.DataFrame'>\n",
      "Index: 2 entries, Australia to New Zealand\n",
      "Data columns (total 12 columns):\n",
      "gdpPercap_1952    2 non-null float64\n",
      "gdpPercap_1957    2 non-null float64\n",
      "gdpPercap_1962    2 non-null float64\n",
      "gdpPercap_1967    2 non-null float64\n",
      "gdpPercap_1972    2 non-null float64\n",
      "gdpPercap_1977    2 non-null float64\n",
      "gdpPercap_1982    2 non-null float64\n",
      "gdpPercap_1987    2 non-null float64\n",
      "gdpPercap_1992    2 non-null float64\n",
      "gdpPercap_1997    2 non-null float64\n",
      "gdpPercap_2002    2 non-null float64\n",
      "gdpPercap_2007    2 non-null float64\n",
      "dtypes: float64(12)\n",
      "memory usage: 208.0+ bytes\n"
     ]
    }
   ],
   "source": [
    "data.info()"
   ]
  },
  {
   "cell_type": "markdown",
   "metadata": {},
   "source": [
    "# Dataframe.columns variable stores information about the dataframe's columns"
   ]
  },
  {
   "cell_type": "code",
   "execution_count": 5,
   "metadata": {},
   "outputs": [
    {
     "name": "stdout",
     "output_type": "stream",
     "text": [
      "Index(['gdpPercap_1952', 'gdpPercap_1957', 'gdpPercap_1962', 'gdpPercap_1967',\n",
      "       'gdpPercap_1972', 'gdpPercap_1977', 'gdpPercap_1982', 'gdpPercap_1987',\n",
      "       'gdpPercap_1992', 'gdpPercap_1997', 'gdpPercap_2002', 'gdpPercap_2007'],\n",
      "      dtype='object')\n"
     ]
    }
   ],
   "source": [
    "# columns is a member variable\n",
    "print(data.columns)"
   ]
  },
  {
   "cell_type": "markdown",
   "metadata": {},
   "source": [
    "# Transpose data"
   ]
  },
  {
   "cell_type": "code",
   "execution_count": 6,
   "metadata": {},
   "outputs": [
    {
     "name": "stdout",
     "output_type": "stream",
     "text": [
      "country           Australia  New Zealand\n",
      "gdpPercap_1952  10039.59564  10556.57566\n",
      "gdpPercap_1957  10949.64959  12247.39532\n",
      "gdpPercap_1962  12217.22686  13175.67800\n",
      "gdpPercap_1967  14526.12465  14463.91893\n",
      "gdpPercap_1972  16788.62948  16046.03728\n",
      "gdpPercap_1977  18334.19751  16233.71770\n",
      "gdpPercap_1982  19477.00928  17632.41040\n",
      "gdpPercap_1987  21888.88903  19007.19129\n",
      "gdpPercap_1992  23424.76683  18363.32494\n",
      "gdpPercap_1997  26997.93657  21050.41377\n",
      "gdpPercap_2002  30687.75473  23189.80135\n",
      "gdpPercap_2007  34435.36744  25185.00911\n"
     ]
    }
   ],
   "source": [
    "print(data.T)"
   ]
  },
  {
   "cell_type": "markdown",
   "metadata": {},
   "source": [
    "# Describing data"
   ]
  },
  {
   "cell_type": "code",
   "execution_count": 9,
   "metadata": {},
   "outputs": [
    {
     "name": "stdout",
     "output_type": "stream",
     "text": [
      "       gdpPercap_1952  gdpPercap_1957  gdpPercap_1962  gdpPercap_1967  \\\n",
      "count        2.000000        2.000000        2.000000        2.000000   \n",
      "mean     10298.085650    11598.522455    12696.452430    14495.021790   \n",
      "std        365.560078      917.644806      677.727301       43.986086   \n",
      "min      10039.595640    10949.649590    12217.226860    14463.918930   \n",
      "25%      10168.840645    11274.086022    12456.839645    14479.470360   \n",
      "50%      10298.085650    11598.522455    12696.452430    14495.021790   \n",
      "75%      10427.330655    11922.958888    12936.065215    14510.573220   \n",
      "max      10556.575660    12247.395320    13175.678000    14526.124650   \n",
      "\n",
      "       gdpPercap_1972  gdpPercap_1977  gdpPercap_1982  gdpPercap_1987  \\\n",
      "count         2.00000        2.000000        2.000000        2.000000   \n",
      "mean      16417.33338    17283.957605    18554.709840    20448.040160   \n",
      "std         525.09198     1485.263517     1304.328377     2037.668013   \n",
      "min       16046.03728    16233.717700    17632.410400    19007.191290   \n",
      "25%       16231.68533    16758.837652    18093.560120    19727.615725   \n",
      "50%       16417.33338    17283.957605    18554.709840    20448.040160   \n",
      "75%       16602.98143    17809.077557    19015.859560    21168.464595   \n",
      "max       16788.62948    18334.197510    19477.009280    21888.889030   \n",
      "\n",
      "       gdpPercap_1992  gdpPercap_1997  gdpPercap_2002  gdpPercap_2007  \n",
      "count        2.000000        2.000000        2.000000        2.000000  \n",
      "mean     20894.045885    24024.175170    26938.778040    29810.188275  \n",
      "std       3578.979883     4205.533703     5301.853680     6540.991104  \n",
      "min      18363.324940    21050.413770    23189.801350    25185.009110  \n",
      "25%      19628.685413    22537.294470    25064.289695    27497.598692  \n",
      "50%      20894.045885    24024.175170    26938.778040    29810.188275  \n",
      "75%      22159.406358    25511.055870    28813.266385    32122.777857  \n",
      "max      23424.766830    26997.936570    30687.754730    34435.367440  \n"
     ]
    }
   ],
   "source": [
    "print(data.describe(include='all'))"
   ]
  },
  {
   "cell_type": "markdown",
   "metadata": {},
   "source": [
    "# Selecting Values"
   ]
  },
  {
   "cell_type": "markdown",
   "metadata": {},
   "source": [
    "## Select values by entry position - `.iloc`"
   ]
  },
  {
   "cell_type": "code",
   "execution_count": 14,
   "metadata": {},
   "outputs": [
    {
     "name": "stdout",
     "output_type": "stream",
     "text": [
      "data.iloc[0,0] =  Americas\n",
      "                   continent  gdpPercap_1952  gdpPercap_1957  gdpPercap_1962  \\\n",
      "country                                                                        \n",
      "Argentina           Americas     5911.315053     6856.856212     7133.166023   \n",
      "Bolivia             Americas     2677.326347     2127.686326     2180.972546   \n",
      "Brazil              Americas     2108.944355     2487.365989     3336.585802   \n",
      "Canada              Americas    11367.161120    12489.950060    13462.485550   \n",
      "Chile               Americas     3939.978789     4315.622723     4519.094331   \n",
      "Colombia            Americas     2144.115096     2323.805581     2492.351109   \n",
      "Costa Rica          Americas     2627.009471     2990.010802     3460.937025   \n",
      "Cuba                Americas     5586.538780     6092.174359     5180.755910   \n",
      "Dominican Republic  Americas     1397.717137     1544.402995     1662.137359   \n",
      "Ecuador             Americas     3522.110717     3780.546651     4086.114078   \n",
      "\n",
      "                    gdpPercap_1967  gdpPercap_1972  gdpPercap_1977  \\\n",
      "country                                                              \n",
      "Argentina              8052.953021     9443.038526    10079.026740   \n",
      "Bolivia                2586.886053     2980.331339     3548.097832   \n",
      "Brazil                 3429.864357     4985.711467     6660.118654   \n",
      "Canada                16076.588030    18970.570860    22090.883060   \n",
      "Chile                  5106.654313     5494.024437     4756.763836   \n",
      "Colombia               2678.729839     3264.660041     3815.807870   \n",
      "Costa Rica             4161.727834     5118.146939     5926.876967   \n",
      "Cuba                   5690.268015     5305.445256     6380.494966   \n",
      "Dominican Republic     1653.723003     2189.874499     2681.988900   \n",
      "Ecuador                4579.074215     5280.994710     6679.623260   \n",
      "\n",
      "                    gdpPercap_1982  gdpPercap_1987  gdpPercap_1992  \\\n",
      "country                                                              \n",
      "Argentina              8997.897412     9139.671389     9308.418710   \n",
      "Bolivia                3156.510452     2753.691490     2961.699694   \n",
      "Brazil                 7030.835878     7807.095818     6950.283021   \n",
      "Canada                22898.792140    26626.515030    26342.884260   \n",
      "Chile                  5095.665738     5547.063754     7596.125964   \n",
      "Colombia               4397.575659     4903.219100     5444.648617   \n",
      "Costa Rica             5262.734751     5629.915318     6160.416317   \n",
      "Cuba                   7316.918107     7532.924763     5592.843963   \n",
      "Dominican Republic     2861.092386     2899.842175     3044.214214   \n",
      "Ecuador                7213.791267     6481.776993     7103.702595   \n",
      "\n",
      "                    gdpPercap_1997  gdpPercap_2002  gdpPercap_2007  \n",
      "country                                                             \n",
      "Argentina             10967.281950     8797.640716    12779.379640  \n",
      "Bolivia                3326.143191     3413.262690     3822.137084  \n",
      "Brazil                 7957.980824     8131.212843     9065.800825  \n",
      "Canada                28954.925890    33328.965070    36319.235010  \n",
      "Chile                 10118.053180    10778.783850    13171.638850  \n",
      "Colombia               6117.361746     5755.259962     7006.580419  \n",
      "Costa Rica             6677.045314     7723.447195     9645.061420  \n",
      "Cuba                   5431.990415     6340.646683     8948.102923  \n",
      "Dominican Republic     3614.101285     4563.808154     6025.374752  \n",
      "Ecuador                7429.455877     5773.044512     6873.262326  \n"
     ]
    }
   ],
   "source": [
    "data = pd.read_csv('data/gapminder_gdp_americas.csv', index_col='country')\n",
    "print(\"data.iloc[0,0] = \", data.iloc[0,0])\n",
    "print(data.head(10))"
   ]
  },
  {
   "cell_type": "markdown",
   "metadata": {},
   "source": [
    "## Select values by their (entry) label - `.loc`"
   ]
  },
  {
   "cell_type": "code",
   "execution_count": 16,
   "metadata": {},
   "outputs": [
    {
     "name": "stdout",
     "output_type": "stream",
     "text": [
      "12779.37964\n"
     ]
    }
   ],
   "source": [
    "print(data.loc[\"Argentina\", \"gdpPercap_2007\"])"
   ]
  },
  {
   "cell_type": "markdown",
   "metadata": {},
   "source": [
    "## Select entire columns or rows"
   ]
  },
  {
   "cell_type": "markdown",
   "metadata": {},
   "source": [
    "### Columns"
   ]
  },
  {
   "cell_type": "code",
   "execution_count": 17,
   "metadata": {},
   "outputs": [
    {
     "name": "stdout",
     "output_type": "stream",
     "text": [
      "continent         Americas\n",
      "gdpPercap_1952     5911.32\n",
      "gdpPercap_1957     6856.86\n",
      "gdpPercap_1962     7133.17\n",
      "gdpPercap_1967     8052.95\n",
      "gdpPercap_1972     9443.04\n",
      "gdpPercap_1977       10079\n",
      "gdpPercap_1982      8997.9\n",
      "gdpPercap_1987     9139.67\n",
      "gdpPercap_1992     9308.42\n",
      "gdpPercap_1997     10967.3\n",
      "gdpPercap_2002     8797.64\n",
      "gdpPercap_2007     12779.4\n",
      "Name: Argentina, dtype: object\n"
     ]
    }
   ],
   "source": [
    "print(data.loc[\"Argentina\", :])"
   ]
  },
  {
   "cell_type": "markdown",
   "metadata": {},
   "source": [
    "### Rows"
   ]
  },
  {
   "cell_type": "code",
   "execution_count": 19,
   "metadata": {},
   "outputs": [
    {
     "name": "stdout",
     "output_type": "stream",
     "text": [
      "country\n",
      "Argentina              12779.379640\n",
      "Bolivia                 3822.137084\n",
      "Brazil                  9065.800825\n",
      "Canada                 36319.235010\n",
      "Chile                  13171.638850\n",
      "Colombia                7006.580419\n",
      "Costa Rica              9645.061420\n",
      "Cuba                    8948.102923\n",
      "Dominican Republic      6025.374752\n",
      "Ecuador                 6873.262326\n",
      "El Salvador             5728.353514\n",
      "Guatemala               5186.050003\n",
      "Haiti                   1201.637154\n",
      "Honduras                3548.330846\n",
      "Jamaica                 7320.880262\n",
      "Mexico                 11977.574960\n",
      "Nicaragua               2749.320965\n",
      "Panama                  9809.185636\n",
      "Paraguay                4172.838464\n",
      "Peru                    7408.905561\n",
      "Puerto Rico            19328.709010\n",
      "Trinidad and Tobago    18008.509240\n",
      "United States          42951.653090\n",
      "Uruguay                10611.462990\n",
      "Venezuela              11415.805690\n",
      "Name: gdpPercap_2007, dtype: float64\n"
     ]
    }
   ],
   "source": [
    "print(data.loc[:, \"gdpPercap_2007\"])"
   ]
  },
  {
   "cell_type": "markdown",
   "metadata": {},
   "source": [
    "## Multi-column/row slicing"
   ]
  },
  {
   "cell_type": "code",
   "execution_count": 20,
   "metadata": {},
   "outputs": [
    {
     "name": "stdout",
     "output_type": "stream",
     "text": [
      "           gdpPercap_1997  gdpPercap_2002  gdpPercap_2007\n",
      "country                                                  \n",
      "Guatemala     4684.313807     4858.347495     5186.050003\n",
      "Haiti         1341.726931     1270.364932     1201.637154\n",
      "Honduras      3160.454906     3099.728660     3548.330846\n",
      "Jamaica       7121.924704     6994.774861     7320.880262\n",
      "Mexico        9767.297530    10742.440530    11977.574960\n",
      "Nicaragua     2253.023004     2474.548819     2749.320965\n",
      "Panama        7113.692252     7356.031934     9809.185636\n",
      "Paraguay      4247.400261     3783.674243     4172.838464\n",
      "Peru          5838.347657     5909.020073     7408.905561\n"
     ]
    }
   ],
   "source": [
    "print(data.loc['Guatemala':'Peru', 'gdpPercap_1997':'gdpPercap_2007'])"
   ]
  },
  {
   "cell_type": "markdown",
   "metadata": {},
   "source": [
    "## Multi-column/row operations"
   ]
  },
  {
   "cell_type": "code",
   "execution_count": 21,
   "metadata": {},
   "outputs": [
    {
     "name": "stdout",
     "output_type": "stream",
     "text": [
      "gdpPercap_1997     9767.29753\n",
      "gdpPercap_2002    10742.44053\n",
      "gdpPercap_2007    11977.57496\n",
      "dtype: float64\n"
     ]
    }
   ],
   "source": [
    "print(data.loc['Guatemala':'Peru', 'gdpPercap_1997':'gdpPercap_2007'].max())"
   ]
  },
  {
   "cell_type": "markdown",
   "metadata": {},
   "source": [
    "## Comparisons to select data based on value"
   ]
  },
  {
   "cell_type": "code",
   "execution_count": 23,
   "metadata": {},
   "outputs": [
    {
     "name": "stdout",
     "output_type": "stream",
     "text": [
      "Subset of data:\n",
      "            gdpPercap_1997  gdpPercap_2002  gdpPercap_2007\n",
      "country                                                  \n",
      "Guatemala     4684.313807     4858.347495     5186.050003\n",
      "Haiti         1341.726931     1270.364932     1201.637154\n",
      "Honduras      3160.454906     3099.728660     3548.330846\n",
      "Jamaica       7121.924704     6994.774861     7320.880262\n",
      "Mexico        9767.297530    10742.440530    11977.574960\n",
      "Nicaragua     2253.023004     2474.548819     2749.320965\n",
      "Panama        7113.692252     7356.031934     9809.185636\n",
      "Paraguay      4247.400261     3783.674243     4172.838464\n",
      "Peru          5838.347657     5909.020073     7408.905561\n"
     ]
    }
   ],
   "source": [
    "# use a subset of data to keep output readable\n",
    "subset = data.loc['Guatemala':'Peru', 'gdpPercap_1997':'gdpPercap_2007']\n",
    "print('Subset of data:\\n', subset)"
   ]
  },
  {
   "cell_type": "code",
   "execution_count": 25,
   "metadata": {},
   "outputs": [
    {
     "name": "stdout",
     "output_type": "stream",
     "text": [
      "\n",
      "Where are values larger than 10000?\n",
      "            gdpPercap_1997  gdpPercap_2002  gdpPercap_2007\n",
      "country                                                  \n",
      "Guatemala           False           False           False\n",
      "Haiti               False           False           False\n",
      "Honduras            False           False           False\n",
      "Jamaica             False           False           False\n",
      "Mexico              False            True            True\n",
      "Nicaragua           False           False           False\n",
      "Panama              False           False           False\n",
      "Paraguay            False           False           False\n",
      "Peru                False           False           False\n"
     ]
    }
   ],
   "source": [
    "# which values were greater than 10000?\n",
    "# returns dataframe composed of T or F\n",
    "print('\\nWhere are values larger than 10000?\\n', subset > 10000)"
   ]
  },
  {
   "cell_type": "code",
   "execution_count": null,
   "metadata": {
    "collapsed": true
   },
   "outputs": [],
   "source": []
  }
 ],
 "metadata": {
  "kernelspec": {
   "display_name": "Python 3",
   "language": "python",
   "name": "python3"
  },
  "language_info": {
   "codemirror_mode": {
    "name": "ipython",
    "version": 3
   },
   "file_extension": ".py",
   "mimetype": "text/x-python",
   "name": "python",
   "nbconvert_exporter": "python",
   "pygments_lexer": "ipython3",
   "version": "3.6.3"
  }
 },
 "nbformat": 4,
 "nbformat_minor": 2
}
